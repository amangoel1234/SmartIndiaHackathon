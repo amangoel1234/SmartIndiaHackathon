{
 "cells": [
  {
   "cell_type": "code",
   "execution_count": 44,
   "metadata": {},
   "outputs": [
    {
     "data": {
      "text/html": [
       "<div>\n",
       "<style scoped>\n",
       "    .dataframe tbody tr th:only-of-type {\n",
       "        vertical-align: middle;\n",
       "    }\n",
       "\n",
       "    .dataframe tbody tr th {\n",
       "        vertical-align: top;\n",
       "    }\n",
       "\n",
       "    .dataframe thead th {\n",
       "        text-align: right;\n",
       "    }\n",
       "</style>\n",
       "<table border=\"1\" class=\"dataframe\">\n",
       "  <thead>\n",
       "    <tr style=\"text-align: right;\">\n",
       "      <th></th>\n",
       "      <th>narrative</th>\n",
       "      <th>Product</th>\n",
       "    </tr>\n",
       "  </thead>\n",
       "  <tbody>\n",
       "    <tr>\n",
       "      <th>762</th>\n",
       "      <td>Excessive calling at unannounced times.</td>\n",
       "      <td>Debt collection</td>\n",
       "    </tr>\n",
       "    <tr>\n",
       "      <th>1075</th>\n",
       "      <td>XXXX XXXX was given a request to close XXXX/XX...</td>\n",
       "      <td>Credit reporting, credit repair services, or o...</td>\n",
       "    </tr>\n",
       "    <tr>\n",
       "      <th>1421</th>\n",
       "      <td>On XX/XX/2018, I reached out to XXXX, about wh...</td>\n",
       "      <td>Credit reporting, credit repair services, or o...</td>\n",
       "    </tr>\n",
       "    <tr>\n",
       "      <th>1522</th>\n",
       "      <td>VIP mortgage XXXX XXXX run my credit before in...</td>\n",
       "      <td>Mortgage</td>\n",
       "    </tr>\n",
       "    <tr>\n",
       "      <th>1645</th>\n",
       "      <td>.What address were the Validation notices mail...</td>\n",
       "      <td>Debt collection</td>\n",
       "    </tr>\n",
       "    <tr>\n",
       "      <th>1973</th>\n",
       "      <td>I sent a complaint on XX/XX/XXXX reguarding in...</td>\n",
       "      <td>Credit reporting, credit repair services, or o...</td>\n",
       "    </tr>\n",
       "    <tr>\n",
       "      <th>2020</th>\n",
       "      <td>I called Account Recovery Services on XX/XX/XX...</td>\n",
       "      <td>Debt collection</td>\n",
       "    </tr>\n",
       "    <tr>\n",
       "      <th>2033</th>\n",
       "      <td>A written complaint was sent XX/XX/2018 asking...</td>\n",
       "      <td>Debt collection</td>\n",
       "    </tr>\n",
       "    <tr>\n",
       "      <th>2070</th>\n",
       "      <td>Calling my work 7 times a day. Wont state wher...</td>\n",
       "      <td>Debt collection</td>\n",
       "    </tr>\n",
       "    <tr>\n",
       "      <th>2078</th>\n",
       "      <td>I owed one payment and was a couple days late....</td>\n",
       "      <td>Debt collection</td>\n",
       "    </tr>\n",
       "    <tr>\n",
       "      <th>2112</th>\n",
       "      <td>Ive sent a letter to this company a few times ...</td>\n",
       "      <td>Debt collection</td>\n",
       "    </tr>\n",
       "    <tr>\n",
       "      <th>2285</th>\n",
       "      <td>I have absolutely no idea who these agencies a...</td>\n",
       "      <td>Credit reporting, credit repair services, or o...</td>\n",
       "    </tr>\n",
       "    <tr>\n",
       "      <th>2355</th>\n",
       "      <td>Received collection letter regarding account X...</td>\n",
       "      <td>Debt collection</td>\n",
       "    </tr>\n",
       "    <tr>\n",
       "      <th>2552</th>\n",
       "      <td>CREDCO IS ON MY REPORTS ... AS A HARD INQUIRY ...</td>\n",
       "      <td>Credit reporting, credit repair services, or o...</td>\n",
       "    </tr>\n",
       "    <tr>\n",
       "      <th>2557</th>\n",
       "      <td>I reached out to my mortgage holder to request...</td>\n",
       "      <td>Mortgage</td>\n",
       "    </tr>\n",
       "  </tbody>\n",
       "</table>\n",
       "</div>"
      ],
      "text/plain": [
       "                                              narrative  \\\n",
       "762             Excessive calling at unannounced times.   \n",
       "1075  XXXX XXXX was given a request to close XXXX/XX...   \n",
       "1421  On XX/XX/2018, I reached out to XXXX, about wh...   \n",
       "1522  VIP mortgage XXXX XXXX run my credit before in...   \n",
       "1645  .What address were the Validation notices mail...   \n",
       "1973  I sent a complaint on XX/XX/XXXX reguarding in...   \n",
       "2020  I called Account Recovery Services on XX/XX/XX...   \n",
       "2033  A written complaint was sent XX/XX/2018 asking...   \n",
       "2070  Calling my work 7 times a day. Wont state wher...   \n",
       "2078  I owed one payment and was a couple days late....   \n",
       "2112  Ive sent a letter to this company a few times ...   \n",
       "2285  I have absolutely no idea who these agencies a...   \n",
       "2355  Received collection letter regarding account X...   \n",
       "2552  CREDCO IS ON MY REPORTS ... AS A HARD INQUIRY ...   \n",
       "2557  I reached out to my mortgage holder to request...   \n",
       "\n",
       "                                                Product  \n",
       "762                                     Debt collection  \n",
       "1075  Credit reporting, credit repair services, or o...  \n",
       "1421  Credit reporting, credit repair services, or o...  \n",
       "1522                                           Mortgage  \n",
       "1645                                    Debt collection  \n",
       "1973  Credit reporting, credit repair services, or o...  \n",
       "2020                                    Debt collection  \n",
       "2033                                    Debt collection  \n",
       "2070                                    Debt collection  \n",
       "2078                                    Debt collection  \n",
       "2112                                    Debt collection  \n",
       "2285  Credit reporting, credit repair services, or o...  \n",
       "2355                                    Debt collection  \n",
       "2552  Credit reporting, credit repair services, or o...  \n",
       "2557                                           Mortgage  "
      ]
     },
     "execution_count": 44,
     "metadata": {},
     "output_type": "execute_result"
    }
   ],
   "source": [
    "import pandas as pd\n",
    "import numpy as np\n",
    "from tqdm import tqdm\n",
    "tqdm.pandas(desc=\"progress-bar\")\n",
    "from gensim.models import Doc2Vec\n",
    "from sklearn import utils\n",
    "from sklearn.model_selection import train_test_split\n",
    "import gensim\n",
    "from sklearn.linear_model import LogisticRegression\n",
    "from gensim.models.doc2vec import TaggedDocument\n",
    "import re\n",
    "import seaborn as sns\n",
    "import matplotlib.pyplot as plt\n",
    "df = pd.read_csv('C://Users//Shreyas//Downloads//Consumer_Complaints.csv')\n",
    "df = df[['Consumer complaint narrative','Product']]\n",
    "df = df[pd.notnull(df['Consumer complaint narrative'])]\n",
    "df.rename(columns = {'Consumer complaint narrative':'narrative'}, inplace = True)\n",
    "df.head(15)"
   ]
  },
  {
   "cell_type": "code",
   "execution_count": 45,
   "metadata": {},
   "outputs": [
    {
     "data": {
      "text/plain": [
       "(53, 2)"
      ]
     },
     "execution_count": 45,
     "metadata": {},
     "output_type": "execute_result"
    }
   ],
   "source": [
    "df.shape"
   ]
  },
  {
   "cell_type": "code",
   "execution_count": 54,
   "metadata": {},
   "outputs": [
    {
     "name": "stdout",
     "output_type": "stream",
     "text": [
      "showing info https://raw.githubusercontent.com/nltk/nltk_data/gh-pages/index.xml\n"
     ]
    },
    {
     "data": {
      "text/plain": [
       "True"
      ]
     },
     "execution_count": 54,
     "metadata": {},
     "output_type": "execute_result"
    }
   ],
   "source": [
    "df.index = range(53)\n",
    "df['narrative'].apply(lambda x: len(x.split(' '))).sum()\n",
    "nltk.download()"
   ]
  },
  {
   "cell_type": "code",
   "execution_count": 49,
   "metadata": {},
   "outputs": [
    {
     "data": {
      "image/png": "[encoded data removed]",
      "text/plain": [
       "<Figure size 864x288 with 1 Axes>"
      ]
     },
     "metadata": {
      "needs_background": "light"
     },
     "output_type": "display_data"
    }
   ],
   "source": [
    "cnt_pro = df['Product'].value_counts()\n",
    "plt.figure(figsize=(12,4))\n",
    "sns.barplot(cnt_pro.index, cnt_pro.values, alpha=0.8)\n",
    "plt.ylabel('Number of Occurrences', fontsize=12)\n",
    "plt.xlabel('Product', fontsize=12)\n",
    "plt.xticks(rotation=90)\n",
    "plt.show(); "
   ]
  },
  {
   "cell_type": "code",
   "execution_count": 50,
   "metadata": {},
   "outputs": [
    {
     "name": "stdout",
     "output_type": "stream",
     "text": [
      "Received collection letter regarding account XXXX from XXXX regarding debt not verified, debt not belonging to me, have asked creditor to cease attempts to collect debt & to remove from my credit report / credit file.\n",
      "Product: Debt collection\n"
     ]
    }
   ],
   "source": [
    "def print_complaint(index):\n",
    "    example = df[df.index == index][['narrative', 'Product']].values[0]\n",
    "    if len(example) > 0:\n",
    "        print(example[0])\n",
    "        print('Product:', example[1])\n",
    "print_complaint(12)\n"
   ]
  },
  {
   "cell_type": "code",
   "execution_count": 51,
   "metadata": {},
   "outputs": [
    {
     "name": "stdout",
     "output_type": "stream",
     "text": [
      "I've been requesting since last year verification & validation, according to the FCRA. This company has been given Section 623 letters of the FCRA and have refused to provide me with any physical proof regarding this account. I informed them that the original creditor is not XXXX accredited, their business can't be found through CFPB website, they have no website or email address, they don't give information over the phone, and they don't have any contract between them and myself ... That being stated, why is this on my report?! I don't even know who the heck these people are! This is my THIRD time reporting them to a higher agency/bureau. I've given them my social yet they state I haven't given enough information? That's XXXX!\n",
      "Product: Debt collection\n"
     ]
    }
   ],
   "source": [
    "print_complaint(20)"
   ]
  },
  {
   "cell_type": "code",
   "execution_count": 52,
   "metadata": {},
   "outputs": [],
   "source": [
    "from bs4 import BeautifulSoup\n",
    "def cleanText(text):\n",
    "    text = BeautifulSoup(text, \"lxml\").text\n",
    "    text = re.sub(r'\\|\\|\\|', r' ', text) \n",
    "    text = re.sub(r'http\\S+', r'<URL>', text)\n",
    "    text = text.lower()\n",
    "    text = text.replace('x', '')\n",
    "    return text\n",
    "df['narrative'] = df['narrative'].apply(cleanText)"
   ]
  },
  {
   "cell_type": "code",
   "execution_count": 59,
   "metadata": {},
   "outputs": [],
   "source": [
    "train, test = train_test_split(df, test_size=0.3, random_state=42)\n",
    "import nltk\n",
    "#nltk.download('punkt')\n",
    "from nltk.corpus import stopwords\n",
    "def tokenize_text(text):\n",
    "    tokens = []\n",
    "    for sent in nltk.sent_tokenize(text):\n",
    "        for word in nltk.word_tokenize(sent):\n",
    "            if len(word) < 2:\n",
    "                continue\n",
    "            tokens.append(word.lower())\n",
    "    return tokens\n",
    "train_tagged = train.apply(\n",
    "    lambda r: TaggedDocument(words=tokenize_text(r['narrative']), tags=[r.Product]), axis=1)\n",
    "test_tagged = test.apply(\n",
    "    lambda r: TaggedDocument(words=tokenize_text(r['narrative']), tags=[r.Product]), axis=1)"
   ]
  },
  {
   "cell_type": "code",
   "execution_count": 60,
   "metadata": {},
   "outputs": [
    {
     "data": {
      "text/plain": [
       "TaggedDocument(words=[\"'ve\", 'been', 'requesting', 'since', 'last', 'year', 'verification', 'validation', 'according', 'to', 'the', 'fcra', 'this', 'company', 'has', 'been', 'given', 'section', '623', 'letters', 'of', 'the', 'fcra', 'and', 'have', 'refused', 'to', 'provide', 'me', 'with', 'any', 'physical', 'proof', 'regarding', 'this', 'account', 'informed', 'them', 'that', 'the', 'original', 'creditor', 'is', 'not', 'accredited', 'their', 'business', 'ca', \"n't\", 'be', 'found', 'through', 'cfpb', 'website', 'they', 'have', 'no', 'website', 'or', 'email', 'address', 'they', 'do', \"n't\", 'give', 'information', 'over', 'the', 'phone', 'and', 'they', 'do', \"n't\", 'have', 'any', 'contract', 'between', 'them', 'and', 'myself', '...', 'that', 'being', 'stated', 'why', 'is', 'this', 'on', 'my', 'report', 'do', \"n't\", 'even', 'know', 'who', 'the', 'heck', 'these', 'people', 'are', 'this', 'is', 'my', 'third', 'time', 'reporting', 'them', 'to', 'higher', 'agency/bureau', \"'ve\", 'given', 'them', 'my', 'social', 'yet', 'they', 'state', 'have', \"n't\", 'given', 'enough', 'information', 'that', \"'s\"], tags=['Debt collection'])"
      ]
     },
     "execution_count": 60,
     "metadata": {},
     "output_type": "execute_result"
    }
   ],
   "source": [
    "train_tagged.values[30]"
   ]
  },
  {
   "cell_type": "code",
   "execution_count": 61,
   "metadata": {},
   "outputs": [],
   "source": [
    "import multiprocessing\n",
    "cores = multiprocessing.cpu_count()"
   ]
  },
  {
   "cell_type": "code",
   "execution_count": 77,
   "metadata": {},
   "outputs": [
    {
     "name": "stderr",
     "output_type": "stream",
     "text": [
      "100%|███████████████████████████████████████████████████████████████████████████████| 37/37 [00:00<00:00, 35683.89it/s]\n"
     ]
    }
   ],
   "source": [
    "model_dbow = Doc2Vec(dm=0, vector_size=300, negative=5, hs=0, min_count=5, sample = 0, workers=cores)\n",
    "model_dbow.build_vocab([x for x in tqdm(train_tagged.values)])"
   ]
  },
  {
   "cell_type": "code",
   "execution_count": 78,
   "metadata": {},
   "outputs": [
    {
     "name": "stderr",
     "output_type": "stream",
     "text": [
      "100%|██████████████████████████████████████████████████████████████████████████████| 37/37 [00:00<00:00, 281139.94it/s]\n",
      "100%|███████████████████████████████████████████████████████████████████████████████| 37/37 [00:00<00:00, 18439.79it/s]\n",
      "100%|███████████████████████████████████████████████████████████████████████████████| 37/37 [00:00<00:00, 37135.50it/s]\n",
      "100%|███████████████████████████████████████████████████████████████████████████████| 37/37 [00:00<00:00, 52234.68it/s]\n",
      "100%|██████████████████████████████████████████████████████████████████████████████████████████| 37/37 [00:00<?, ?it/s]\n",
      "100%|██████████████████████████████████████████████████████████████████████████████████████████| 37/37 [00:00<?, ?it/s]\n",
      "100%|███████████████████████████████████████████████████████████████████████████████| 37/37 [00:00<00:00, 21485.43it/s]\n",
      "100%|██████████████████████████████████████████████████████████████████████████████████████████| 37/37 [00:00<?, ?it/s]\n",
      "100%|███████████████████████████████████████████████████████████████████████████████| 37/37 [00:00<00:00, 16500.72it/s]\n",
      "100%|██████████████████████████████████████████████████████████████████████████████████████████| 37/37 [00:00<?, ?it/s]\n",
      "100%|███████████████████████████████████████████████████████████████████████████████| 37/37 [00:00<00:00, 36897.11it/s]\n",
      "100%|██████████████████████████████████████████████████████████████████████████████████████████| 37/37 [00:00<?, ?it/s]\n",
      "100%|██████████████████████████████████████████████████████████████████████████████████████████| 37/37 [00:00<?, ?it/s]\n",
      "100%|███████████████████████████████████████████████████████████████████████████████| 37/37 [00:00<00:00, 37029.17it/s]\n",
      "100%|██████████████████████████████████████████████████████████████████████████████████████████| 37/37 [00:00<?, ?it/s]\n",
      "100%|███████████████████████████████████████████████████████████████████████████████| 37/37 [00:00<00:00, 31671.28it/s]\n",
      "100%|███████████████████████████████████████████████████████████████████████████████| 37/37 [00:00<00:00, 37162.18it/s]\n",
      "100%|███████████████████████████████████████████████████████████████████████████████| 37/37 [00:00<00:00, 38575.50it/s]\n",
      "100%|██████████████████████████████████████████████████████████████████████████████████████████| 37/37 [00:00<?, ?it/s]\n",
      "100%|██████████████████████████████████████████████████████████████████████████████████████████| 37/37 [00:00<?, ?it/s]\n",
      "100%|██████████████████████████████████████████████████████████████████████████████████████████| 37/37 [00:00<?, ?it/s]\n",
      "100%|███████████████████████████████████████████████████████████████████████████████| 37/37 [00:00<00:00, 37144.39it/s]\n",
      "100%|██████████████████████████████████████████████████████████████████████████████████████████| 37/37 [00:00<?, ?it/s]\n",
      "100%|██████████████████████████████████████████████████████████████████████████████████████████| 37/37 [00:00<?, ?it/s]\n",
      "100%|███████████████████████████████████████████████████████████████████████████████| 37/37 [00:00<00:00, 33928.56it/s]\n",
      "100%|███████████████████████████████████████████████████████████████████████████████| 37/37 [00:00<00:00, 19503.49it/s]\n",
      "100%|██████████████████████████████████████████████████████████████████████████████████████████| 37/37 [00:00<?, ?it/s]\n",
      "100%|██████████████████████████████████████████████████████████████████████████████████████████| 37/37 [00:00<?, ?it/s]\n",
      "100%|██████████████████████████████████████████████████████████████████████████████████████████| 37/37 [00:00<?, ?it/s]\n",
      "100%|██████████████████████████████████████████████████████████████████████████████████████████| 37/37 [00:00<?, ?it/s]\n"
     ]
    },
    {
     "name": "stdout",
     "output_type": "stream",
     "text": [
      "Wall time: 683 ms\n"
     ]
    }
   ],
   "source": [
    "%%time\n",
    "for epoch in range(30):\n",
    "    model_dbow.train(utils.shuffle([x for x in tqdm(train_tagged.values)]), total_examples=len(train_tagged.values), epochs=1)\n",
    "    model_dbow.alpha -= 0.002\n",
    "    model_dbow.min_alpha = model_dbow.alpha"
   ]
  },
  {
   "cell_type": "code",
   "execution_count": 79,
   "metadata": {},
   "outputs": [],
   "source": [
    "def vec_for_learning(model, tagged_docs):\n",
    "    sents = tagged_docs.values\n",
    "    targets, regressors = zip(*[(doc.tags[0], model.infer_vector(doc.words, steps=20)) for doc in sents])\n",
    "    return targets, regressors\n"
   ]
  },
  {
   "cell_type": "code",
   "execution_count": 80,
   "metadata": {},
   "outputs": [
    {
     "name": "stderr",
     "output_type": "stream",
     "text": [
      "C:\\Users\\Shreyas\\Anaconda3\\lib\\site-packages\\sklearn\\linear_model\\logistic.py:433: FutureWarning: Default solver will be changed to 'lbfgs' in 0.22. Specify a solver to silence this warning.\n",
      "  FutureWarning)\n",
      "C:\\Users\\Shreyas\\Anaconda3\\lib\\site-packages\\sklearn\\linear_model\\logistic.py:460: FutureWarning: Default multi_class will be changed to 'auto' in 0.22. Specify the multi_class option to silence this warning.\n",
      "  \"this warning.\", FutureWarning)\n"
     ]
    },
    {
     "name": "stdout",
     "output_type": "stream",
     "text": [
      "['Credit reporting, credit repair services, or other personal consumer reports'\n",
      " 'Debt collection'\n",
      " 'Credit reporting, credit repair services, or other personal consumer reports'\n",
      " 'Credit reporting, credit repair services, or other personal consumer reports'\n",
      " 'Debt collection'\n",
      " 'Credit reporting, credit repair services, or other personal consumer reports'\n",
      " 'Debt collection'\n",
      " 'Credit reporting, credit repair services, or other personal consumer reports'\n",
      " 'Debt collection' 'Debt collection' 'Debt collection' 'Debt collection'\n",
      " 'Credit reporting, credit repair services, or other personal consumer reports'\n",
      " 'Debt collection' 'Debt collection' 'Debt collection']\n",
      "Testing accuracy 0.6875\n"
     ]
    },
    {
     "name": "stderr",
     "output_type": "stream",
     "text": [
      "C:\\Users\\Shreyas\\Anaconda3\\lib\\site-packages\\sklearn\\metrics\\classification.py:1143: UndefinedMetricWarning: F-score is ill-defined and being set to 0.0 in labels with no predicted samples.\n",
      "  'precision', 'predicted', average, warn_for)\n"
     ]
    },
    {
     "name": "stdout",
     "output_type": "stream",
     "text": [
      "Testing F1 score: 0.6388888888888888\n"
     ]
    }
   ],
   "source": [
    "y_train, X_train = vec_for_learning(model_dbow, train_tagged)\n",
    "y_test, X_test = vec_for_learning(model_dbow, test_tagged)\n",
    "logreg = LogisticRegression(n_jobs=1, C=1e5)\n",
    "logreg.fit(X_train, y_train)\n",
    "y_pred = logreg.predict(X_test)\n",
    "print(y_pred)\n",
    "from sklearn.metrics import accuracy_score, f1_score\n",
    "print('Testing accuracy %s' % accuracy_score(y_test, y_pred))\n",
    "print('Testing F1 score: {}'.format(f1_score(y_test, y_pred, average='weighted')))"
   ]
  },
  {
   "cell_type": "code",
   "execution_count": null,
   "metadata": {},
   "outputs": [],
   "source": []
  },
  {
   "cell_type": "code",
   "execution_count": null,
   "metadata": {},
   "outputs": [],
   "source": []
  },
  {
   "cell_type": "code",
   "execution_count": null,
   "metadata": {},
   "outputs": [],
   "source": []
  }
 ],
 "metadata": {
  "kernelspec": {
   "display_name": "Python 3",
   "language": "python",
   "name": "python3"
  },
  "language_info": {
   "codemirror_mode": {
    "name": "ipython",
    "version": 3
   },
   "file_extension": ".py",
   "mimetype": "text/x-python",
   "name": "python",
   "nbconvert_exporter": "python",
   "pygments_lexer": "ipython3",
   "version": "3.7.1"
  }
 },
 "nbformat": 4,
 "nbformat_minor": 2
}
