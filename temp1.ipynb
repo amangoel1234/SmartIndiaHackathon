{
 "cells": [
  {
   "cell_type": "code",
   "execution_count": 16,
   "metadata": {},
   "outputs": [
    {
     "data": {
      "text/html": [
       "<div>\n",
       "<style scoped>\n",
       "    .dataframe tbody tr th:only-of-type {\n",
       "        vertical-align: middle;\n",
       "    }\n",
       "\n",
       "    .dataframe tbody tr th {\n",
       "        vertical-align: top;\n",
       "    }\n",
       "\n",
       "    .dataframe thead th {\n",
       "        text-align: right;\n",
       "    }\n",
       "</style>\n",
       "<table border=\"1\" class=\"dataframe\">\n",
       "  <thead>\n",
       "    <tr style=\"text-align: right;\">\n",
       "      <th></th>\n",
       "      <th>narrative</th>\n",
       "      <th>Result</th>\n",
       "    </tr>\n",
       "  </thead>\n",
       "  <tbody>\n",
       "    <tr>\n",
       "      <th>0</th>\n",
       "      <td>...drags Railways to CCIArshiya International,...</td>\n",
       "      <td>1</td>\n",
       "    </tr>\n",
       "    <tr>\n",
       "      <th>1</th>\n",
       "      <td>10 key faces in Modi govt and challenges their...</td>\n",
       "      <td>1</td>\n",
       "    </tr>\n",
       "    <tr>\n",
       "      <th>2</th>\n",
       "      <td>19-year-old killed in an accident, truck set a...</td>\n",
       "      <td>0</td>\n",
       "    </tr>\n",
       "    <tr>\n",
       "      <th>3</th>\n",
       "      <td>24th February 2010: When Sachin Tendulkar rewr...</td>\n",
       "      <td>0</td>\n",
       "    </tr>\n",
       "    <tr>\n",
       "      <th>4</th>\n",
       "      <td>3 from same family die after car rolls into di...</td>\n",
       "      <td>0</td>\n",
       "    </tr>\n",
       "    <tr>\n",
       "      <th>5</th>\n",
       "      <td>7/11 train blasts: 11 years on, safety still a...</td>\n",
       "      <td>1</td>\n",
       "    </tr>\n",
       "    <tr>\n",
       "      <th>6</th>\n",
       "      <td>‘Denuclearization’: Donald Trump teases ahead ...</td>\n",
       "      <td>0</td>\n",
       "    </tr>\n",
       "    <tr>\n",
       "      <th>7</th>\n",
       "      <td>‘Missing man’ formation marks tribute to IAF p...</td>\n",
       "      <td>0</td>\n",
       "    </tr>\n",
       "    <tr>\n",
       "      <th>8</th>\n",
       "      <td>‘Prime time minister continued shooting for fi...</td>\n",
       "      <td>0</td>\n",
       "    </tr>\n",
       "    <tr>\n",
       "      <th>9</th>\n",
       "      <td>‘Sabka vinaash’: Yogi Adityanath’s take on SP,...</td>\n",
       "      <td>0</td>\n",
       "    </tr>\n",
       "    <tr>\n",
       "      <th>10</th>\n",
       "      <td>‘We do not want to be an elitist company’, App...</td>\n",
       "      <td>0</td>\n",
       "    </tr>\n",
       "    <tr>\n",
       "      <th>11</th>\n",
       "      <td>Afghanistan smash world record as Hazratullah ...</td>\n",
       "      <td>0</td>\n",
       "    </tr>\n",
       "    <tr>\n",
       "      <th>12</th>\n",
       "      <td>After Elphinstone station stampede, Tendulkar ...</td>\n",
       "      <td>1</td>\n",
       "    </tr>\n",
       "    <tr>\n",
       "      <th>13</th>\n",
       "      <td>Agencies drill holes in each other's theoriesE...</td>\n",
       "      <td>1</td>\n",
       "    </tr>\n",
       "    <tr>\n",
       "      <th>14</th>\n",
       "      <td>Airspace, surplus land at 3 stations to be dev...</td>\n",
       "      <td>1</td>\n",
       "    </tr>\n",
       "  </tbody>\n",
       "</table>\n",
       "</div>"
      ],
      "text/plain": [
       "                                            narrative  Result\n",
       "0   ...drags Railways to CCIArshiya International,...       1\n",
       "1   10 key faces in Modi govt and challenges their...       1\n",
       "2   19-year-old killed in an accident, truck set a...       0\n",
       "3   24th February 2010: When Sachin Tendulkar rewr...       0\n",
       "4   3 from same family die after car rolls into di...       0\n",
       "5   7/11 train blasts: 11 years on, safety still a...       1\n",
       "6   ‘Denuclearization’: Donald Trump teases ahead ...       0\n",
       "7   ‘Missing man’ formation marks tribute to IAF p...       0\n",
       "8   ‘Prime time minister continued shooting for fi...       0\n",
       "9   ‘Sabka vinaash’: Yogi Adityanath’s take on SP,...       0\n",
       "10  ‘We do not want to be an elitist company’, App...       0\n",
       "11  Afghanistan smash world record as Hazratullah ...       0\n",
       "12  After Elphinstone station stampede, Tendulkar ...       1\n",
       "13  Agencies drill holes in each other's theoriesE...       1\n",
       "14  Airspace, surplus land at 3 stations to be dev...       1"
      ]
     },
     "execution_count": 16,
     "metadata": {},
     "output_type": "execute_result"
    }
   ],
   "source": [
    "import pandas as pd\n",
    "import numpy as np\n",
    "from tqdm import tqdm\n",
    "tqdm.pandas(desc=\"progress-bar\")\n",
    "from gensim.models import Doc2Vec\n",
    "from sklearn import utils\n",
    "from sklearn.model_selection import train_test_split\n",
    "import gensim\n",
    "from sklearn.linear_model import LogisticRegression\n",
    "from gensim.models.doc2vec import TaggedDocument\n",
    "import re\n",
    "import seaborn as sns\n",
    "import matplotlib.pyplot as plt\n",
    "df = pd.read_csv('C://Users//Shreyas//Downloads//dataset1.csv')\n",
    "df = df[['Articles','Result']]\n",
    "df = df[pd.notnull(df['Articles'])]\n",
    "df.rename(columns = {'Articles':'narrative'}, inplace = True)\n",
    "df.head(15)"
   ]
  },
  {
   "cell_type": "code",
   "execution_count": 17,
   "metadata": {},
   "outputs": [
    {
     "data": {
      "text/plain": [
       "(201, 2)"
      ]
     },
     "execution_count": 17,
     "metadata": {},
     "output_type": "execute_result"
    }
   ],
   "source": [
    "df.shape"
   ]
  },
  {
   "cell_type": "code",
   "execution_count": 18,
   "metadata": {},
   "outputs": [
    {
     "data": {
      "text/plain": [
       "80684"
      ]
     },
     "execution_count": 18,
     "metadata": {},
     "output_type": "execute_result"
    }
   ],
   "source": [
    "df.index = range(201)\n",
    "df['narrative'].apply(lambda x: len(x.split(' '))).sum()\n",
    "\n",
    "#nltk.download()"
   ]
  },
  {
   "cell_type": "code",
   "execution_count": 19,
   "metadata": {},
   "outputs": [
    {
     "data": {
      "image/png": "[encoded data removed]",
      "text/plain": [
       "<Figure size 864x288 with 1 Axes>"
      ]
     },
     "metadata": {
      "needs_background": "light"
     },
     "output_type": "display_data"
    }
   ],
   "source": [
    "cnt_pro = df['Result'].value_counts()\n",
    "plt.figure(figsize=(12,4))\n",
    "sns.barplot(cnt_pro.index, cnt_pro.values, alpha=0.8)\n",
    "plt.ylabel('Number of Occurrences', fontsize=12)\n",
    "plt.xlabel('Result', fontsize=12)\n",
    "plt.xticks(rotation=90)\n",
    "plt.show(); "
   ]
  },
  {
   "cell_type": "code",
   "execution_count": 20,
   "metadata": {},
   "outputs": [
    {
     "name": "stdout",
     "output_type": "stream",
     "text": [
      "After Elphinstone station stampede, Tendulkar sanctions Rs 2 cr from MP fund for Mumbai FOB workCricket icon and Rajya Sabha member Sachin Tendulkar has sanctioned Rs 2 crore from his Members of Parliament Local Area Development Scheme (MPLADS) fund for revamp of rail foot overbridges in Mumbai here in the backdrop of the Elphinstone Road station stampede.On September 29, 23 people were killed in the rush-hour stampede on a narrow foot overbridge (FOBs) linking Elphinstone Road and Parel suburban stations during heavy rain.Tendulkar, in a letter to Railway Minister Piyush Goyal, said he is requesting the Mumbai suburban district collector to authorise Rs 2 crore for constructions.He said Rs 1 crore each be alloted to Western Railway and Central Railway from his MPLADS fund “towards immediate revamp and construction of FOBs in as many high density, single bridge stations on the Western, Central (Main) and Central (Harbour) lines” that the official may deem urgent.“The recent incident at the Elphinstone Road station on Western Railway where innocent lives were lost in a stampede was devastating and I am moved to offer immediate support for the improvement of services for our Mumbaikars,” he wrote.“For the millions of those affected, it is not a happy Diwali in any sense, we must do all we can as responsible citizens to ensure this never happens again on any network in India,” Tendulkar said in the letter dated October 16.In the letter, also sent to the Mumbai suburban district collector, Tendulkar said he has asked the Railway Ministry, Railway Board and zonal heads “to study the possibility of creating two separate independent zones for the suburban services, a request that has been made by several experts, passenger and civil society groups.”“I think there is a merit in this request as it will bring dedicated manpower, funds and focus on the suburban network which ferries millions every single day,” he wrote.Every year, MPs are allotted Rs 5 crore under the MPLAD (Member of Parliament Local Area Development) Scheme, primarily to take up development projects in their respective constituencies.The fund has been increased over time, starting from Rs 5 lakh in 1993-94 to Rs 5 crore at present.\n",
      "Result: 1\n"
     ]
    }
   ],
   "source": [
    "def print_complaint(index):\n",
    "    example = df[df.index == index][['narrative', 'Result']].values[0]\n",
    "    if len(example) > 0:\n",
    "        print(example[0])\n",
    "        print('Result:', example[1])\n",
    "print_complaint(12)\n"
   ]
  },
  {
   "cell_type": "code",
   "execution_count": 21,
   "metadata": {},
   "outputs": [
    {
     "name": "stdout",
     "output_type": "stream",
     "text": [
      "...drags Railways to CCIArshiya International, the private train operator, has dragged the Indian Railways to Competition Commission of India (CCI) for not disclosing certain clauses while signing concessionary agreement and raising haulage charges. The CCI is expected to announce its observations in April.Ajay Mittal, chairman, Arshiya International said, \"There are many private players including the steel and coal companies who are not happy with the Indian Railways but they do not want to cross swords with the ministry.\"The railway ministry in September increased the haulage charges by 170 to 200% for petroleum products, cement, stone, iron and steel.\n",
      "Result: 1\n"
     ]
    }
   ],
   "source": [
    "print_complaint(0)"
   ]
  },
  {
   "cell_type": "code",
   "execution_count": 22,
   "metadata": {},
   "outputs": [],
   "source": [
    "from bs4 import BeautifulSoup\n",
    "def cleanText(text):\n",
    "    text = BeautifulSoup(text, \"lxml\").text\n",
    "    text = re.sub(r'\\|\\|\\|', r' ', text) \n",
    "    text = re.sub(r'http\\S+', r'<URL>', text)\n",
    "    text = text.lower()\n",
    "    text = text.replace('x', '')\n",
    "    return text\n",
    "df['narrative'] = df['narrative'].apply(cleanText)"
   ]
  },
  {
   "cell_type": "code",
   "execution_count": 24,
   "metadata": {},
   "outputs": [],
   "source": [
    "train, test = train_test_split(df, test_size=0.3, random_state=42)\n",
    "import nltk\n",
    "#nltk.download('punkt')\n",
    "from nltk.corpus import stopwords\n",
    "def tokenize_text(text):\n",
    "    tokens = []\n",
    "    for sent in nltk.sent_tokenize(text):\n",
    "        for word in nltk.word_tokenize(sent):\n",
    "            if len(word) < 2:\n",
    "                continue\n",
    "            tokens.append(word.lower())\n",
    "    return tokens\n",
    "train_tagged = train.apply(\n",
    "    lambda r: TaggedDocument(words=tokenize_text(r['narrative']), tags=[r.Result]), axis=1)\n",
    "test_tagged = test.apply(\n",
    "    lambda r: TaggedDocument(words=tokenize_text(r['narrative']), tags=[r.Result]), axis=1)"
   ]
  },
  {
   "cell_type": "code",
   "execution_count": 27,
   "metadata": {},
   "outputs": [
    {
     "data": {
      "text/plain": [
       "TaggedDocument(words=['csir-ugc', 'net', '2019', 'application', 'process', 'begins', 'registration', 'closes', 'on', 'march', '18csir', 'net', '2019', 'registration', 'update', 'the', 'online', 'registration', 'process', 'for', 'council', 'of', 'scientific', 'and', 'industrial', 'research', 'csir', 'ugc', 'net', 'eaminations', 'june', '2019', 'began', 'on', 'monday', 'february', '25.the', 'online', 'registration', 'process', 'for', 'council', 'of', 'scientific', 'and', 'industrial', 'research', 'csir', 'ugc', 'net', 'eaminations', 'june', '2019', 'began', 'on', 'monday', 'february', '25.', 'the', 'eamination', 'is', 'scheduled', 'to', 'be', 'conducted', 'on', 'june', '16.candidates', 'can', 'apply', 'for', 'the', 'eam', 'by', 'visiting', 'the', 'official', 'website', 'of', 'csir', 'at', 'csirhrdg.res.in', 'click', 'on', 'the', 'link', 'for', 'applying', 'online', 'to', 'proceed', 'the', 'link', 'for', 'registration', 'is', 'not', 'opening', 'at', 'the', 'moment', 'candidates', 'may', 'have', 'to', 'wait', 'and', 'try', 'after', 'some', 'time.candidates', 'must', 'carefully', 'read', 'the', 'detailed', 'instructions', 'contained', 'in', 'the', 'information', 'bulletin', 'before', 'applying', 'for', 'the', 'eamination.a', 'candidate', 'can', 'apply', 'either', 'for', 'junior', 'research', 'fellowships', 'jrf', 'or', 'lectureship', 'ls', 'he/she', 'may', 'indicate', 'his/her', 'preference', 'while', 'applying', 'if', 'candidate', 'applies', 'for', 'jrf', 'and', 'fulfils', 'the', 'eligibility', 'criteria', 'for', 'lectureship', 'too', 'he', 'will', 'be', 'considered', 'for', 'both', 'jrf', 'and', 'lectureship', 'if', 'candidate', 'is', 'found', 'to', 'be', 'over-aged', 'for', 'jrf', 'he/she', 'will', 'be', 'automatically', 'considered', 'for', 'lectureship', 'only.a', 'candidate', 'should', 'submit', 'only', 'one', 'application', 'if', 'he', 'submits', 'more', 'than', 'one', 'the', 'application', 'sent', 'last', 'will', 'be', 'considered', 'in', 'order', 'to', 'avoid', 'last', 'minutes', 'rush', 'apply', 'as', 'early', 'as', 'possible', 'the', 'last', 'date', 'to', 'apply', 'for', 'csir-ugc', 'net', 'for', 'jrf/ls', 'june', '2019', 'eamination', 'in', 'march', '18.the', 'eamination', 'is', 'held', 'to', 'determine', 'the', 'eligibility', 'candidates', 'for', 'the', 'award', 'of', 'junior', 'research', 'fellowships', 'jrf', 'and', 'for', 'determining', 'eligibility', 'for', 'appointment', 'as', 'lecturer', 'in', 'chemical', 'sciences', 'earth', 'atmospheric', 'ocean', 'and', 'planetary', 'sciences', 'life', 'sciences', 'mathematical', 'sciences', 'physical', 'sciences', 'the', 'award', 'of', 'junior', 'research', 'fellowship', 'to', 'the', 'successful', 'eligible', 'candidates', 'depends', 'on', 'their', 'finding', 'admission/placement', 'in', 'university/', 'national', 'laboratory/', 'institution', 'of', 'higher', 'learning', 'and', 'research.note', 'go', 'through', 'the', 'information', 'bulletin', 'and', 'notification', 'for', 'csir-ugc', 'net', 'for', 'jrf/ls', 'june', '2019', 'eamination', 'to', 'know', 'details', 'about', 'eligibility', 'conditions', 'eam', 'centres', 'how', 'to', 'apply', 'and', 'much', 'more'], tags=[0])"
      ]
     },
     "execution_count": 27,
     "metadata": {},
     "output_type": "execute_result"
    }
   ],
   "source": [
    "train_tagged.values[12]"
   ]
  },
  {
   "cell_type": "code",
   "execution_count": 28,
   "metadata": {},
   "outputs": [],
   "source": [
    "import multiprocessing\n",
    "cores = multiprocessing.cpu_count()"
   ]
  },
  {
   "cell_type": "code",
   "execution_count": 37,
   "metadata": {},
   "outputs": [
    {
     "name": "stderr",
     "output_type": "stream",
     "text": [
      "100%|████████████████████████████████████████████████████████████████████████████████████████| 140/140 [00:00<?, ?it/s]\n"
     ]
    }
   ],
   "source": [
    "model_dbow = Doc2Vec(dm=1, vector_size=300, negative=5, hs=0, min_count=5, sample = 0, workers=cores)\n",
    "model_dbow.build_vocab([x for x in tqdm(train_tagged.values)])"
   ]
  },
  {
   "cell_type": "code",
   "execution_count": 38,
   "metadata": {},
   "outputs": [
    {
     "name": "stderr",
     "output_type": "stream",
     "text": [
      "100%|█████████████████████████████████████████████████████████████████████████████| 140/140 [00:00<00:00, 52939.29it/s]\n",
      "100%|████████████████████████████████████████████████████████████████████████████████████████| 140/140 [00:00<?, ?it/s]\n",
      "100%|████████████████████████████████████████████████████████████████████████████████████████| 140/140 [00:00<?, ?it/s]\n",
      "100%|████████████████████████████████████████████████████████████████████████████████████████| 140/140 [00:00<?, ?it/s]\n",
      "100%|████████████████████████████████████████████████████████████████████████████████████████| 140/140 [00:00<?, ?it/s]\n",
      "100%|████████████████████████████████████████████████████████████████████████████| 140/140 [00:00<00:00, 102981.86it/s]\n",
      "100%|████████████████████████████████████████████████████████████████████████████████████████| 140/140 [00:00<?, ?it/s]\n",
      "100%|████████████████████████████████████████████████████████████████████████████████████████| 140/140 [00:00<?, ?it/s]\n",
      "100%|████████████████████████████████████████████████████████████████████████████████████████| 140/140 [00:00<?, ?it/s]\n",
      "100%|████████████████████████████████████████████████████████████████████████████████████████| 140/140 [00:00<?, ?it/s]\n",
      "100%|████████████████████████████████████████████████████████████████████████████████████████| 140/140 [00:00<?, ?it/s]\n",
      "100%|█████████████████████████████████████████████████████████████████████████████| 140/140 [00:00<00:00, 98755.90it/s]\n",
      "100%|████████████████████████████████████████████████████████████████████████████| 140/140 [00:00<00:00, 883011.37it/s]\n",
      "100%|████████████████████████████████████████████████████████████████████████████████████████| 140/140 [00:00<?, ?it/s]\n",
      "100%|████████████████████████████████████████████████████████████████████████████████████████| 140/140 [00:00<?, ?it/s]\n",
      "100%|████████████████████████████████████████████████████████████████████████████████████████| 140/140 [00:00<?, ?it/s]\n",
      "100%|████████████████████████████████████████████████████████████████████████████████████████| 140/140 [00:00<?, ?it/s]\n",
      "100%|████████████████████████████████████████████████████████████████████████████████████████| 140/140 [00:00<?, ?it/s]\n",
      "100%|████████████████████████████████████████████████████████████████████████████████████████| 140/140 [00:00<?, ?it/s]\n",
      "100%|████████████████████████████████████████████████████████████████████████████████████████| 140/140 [00:00<?, ?it/s]\n",
      "100%|█████████████████████████████████████████████████████████████████████████████| 140/140 [00:00<00:00, 96231.16it/s]\n",
      "100%|████████████████████████████████████████████████████████████████████████████████████████| 140/140 [00:00<?, ?it/s]\n",
      "100%|████████████████████████████████████████████████████████████████████████████████████████| 140/140 [00:00<?, ?it/s]\n",
      "100%|████████████████████████████████████████████████████████████████████████████████████████| 140/140 [00:00<?, ?it/s]\n",
      "100%|████████████████████████████████████████████████████████████████████████████████████████| 140/140 [00:00<?, ?it/s]\n",
      "100%|████████████████████████████████████████████████████████████████████████████████████████| 140/140 [00:00<?, ?it/s]\n",
      "100%|████████████████████████████████████████████████████████████████████████████| 140/140 [00:00<00:00, 140445.48it/s]\n",
      "100%|████████████████████████████████████████████████████████████████████████████| 140/140 [00:00<00:00, 438538.13it/s]\n",
      "100%|████████████████████████████████████████████████████████████████████████████████████████| 140/140 [00:00<?, ?it/s]\n",
      "100%|████████████████████████████████████████████████████████████████████████████████████████| 140/140 [00:00<?, ?it/s]\n"
     ]
    },
    {
     "name": "stdout",
     "output_type": "stream",
     "text": [
      "Wall time: 2.77 s\n"
     ]
    }
   ],
   "source": [
    "%%time\n",
    "for epoch in range(30):\n",
    "    model_dbow.train(utils.shuffle([x for x in tqdm(train_tagged.values)]), total_examples=len(train_tagged.values), epochs=1)\n",
    "    model_dbow.alpha -= 0.002\n",
    "    model_dbow.min_alpha = model_dbow.alpha"
   ]
  },
  {
   "cell_type": "code",
   "execution_count": 39,
   "metadata": {},
   "outputs": [],
   "source": [
    "def vec_for_learning(model, tagged_docs):\n",
    "    sents = tagged_docs.values\n",
    "    targets, regressors = zip(*[(doc.tags[0], model.infer_vector(doc.words, steps=20)) for doc in sents])\n",
    "    return targets, regressors\n"
   ]
  },
  {
   "cell_type": "code",
   "execution_count": 41,
   "metadata": {},
   "outputs": [
    {
     "name": "stderr",
     "output_type": "stream",
     "text": [
      "C:\\Users\\Shreyas\\Anaconda3\\lib\\site-packages\\sklearn\\linear_model\\logistic.py:433: FutureWarning: Default solver will be changed to 'lbfgs' in 0.22. Specify a solver to silence this warning.\n",
      "  FutureWarning)\n"
     ]
    },
    {
     "name": "stdout",
     "output_type": "stream",
     "text": [
      "[0 0 1 1 1 1 1 1 0 1 0 1 1 0 0 0 1 1 1 1 1 1 1 0 1 1 1 0 1 1 0 0 1 0 1 0 0\n",
      " 0 1 0 0 1 0 1 0 0 1 1 0 0 1 0 1 1 1 0 0 0 0 1 1]\n",
      "Testing accuracy 0.9016393442622951\n",
      "Testing F1 score: 0.9013213680045222\n"
     ]
    }
   ],
   "source": [
    "y_train, X_train = vec_for_learning(model_dbow, train_tagged)\n",
    "y_test, X_test = vec_for_learning(model_dbow, test_tagged)\n",
    "logreg = LogisticRegression(n_jobs=1, C=1e5)\n",
    "logreg.fit(X_train, y_train)\n",
    "y_pred = logreg.predict(X_test)\n",
    "print(y_pred)\n",
    "from sklearn.metrics import accuracy_score, f1_score\n",
    "print('Testing accuracy %s' % accuracy_score(y_test, y_pred))\n",
    "print('Testing F1 score: {}'.format(f1_score(y_test, y_pred, average='weighted')))"
   ]
  },
  {
   "cell_type": "code",
   "execution_count": null,
   "metadata": {},
   "outputs": [],
   "source": []
  },
  {
   "cell_type": "code",
   "execution_count": null,
   "metadata": {},
   "outputs": [],
   "source": []
  },
  {
   "cell_type": "code",
   "execution_count": null,
   "metadata": {},
   "outputs": [],
   "source": []
  }
 ],
 "metadata": {
  "kernelspec": {
   "display_name": "Python 3",
   "language": "python",
   "name": "python3"
  },
  "language_info": {
   "codemirror_mode": {
    "name": "ipython",
    "version": 3
   },
   "file_extension": ".py",
   "mimetype": "text/x-python",
   "name": "python",
   "nbconvert_exporter": "python",
   "pygments_lexer": "ipython3",
   "version": "3.7.1"
  }
 },
 "nbformat": 4,
 "nbformat_minor": 2
}
